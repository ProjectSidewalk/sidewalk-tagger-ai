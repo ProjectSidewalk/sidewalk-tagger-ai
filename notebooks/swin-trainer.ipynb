{
 "cells": [
  {
   "cell_type": "markdown",
   "source": [
    "This notebook trains a classification model to predict 'tags' or 'severity' for the given Project Sidewalk label type."
   ],
   "metadata": {
    "collapsed": false
   }
  },
  {
   "cell_type": "code",
   "metadata": {
    "id": "0XmqhrS1VF2g",
    "ExecuteTime": {
     "end_time": "2024-06-13T18:58:43.011477Z",
     "start_time": "2024-06-13T18:58:43.002842Z"
    }
   },
   "source": [
    "import os\n",
    "from copy import deepcopy\n",
    "from pathlib import Path\n",
    "import matplotlib.pyplot as plt\n",
    "import numpy as np\n",
    "import torch\n",
    "from torch import nn, optim\n",
    "import warnings\n",
    "warnings.filterwarnings('ignore', category=UserWarning)\n",
    "from torchvision import transforms, io\n",
    "import pandas as pd\n",
    "from torch.utils.data import Dataset\n",
    "import timm\n",
    "from sklearn.metrics import accuracy_score\n"
   ],
   "outputs": [],
   "execution_count": 34
  },
  {
   "cell_type": "code",
   "source": [
    "# some initial variables\n",
    "\n",
    "local_directory = os.getcwd()\n",
    "\n",
    "# Enum for the classification categories we support.\n",
    "C12N_CATEGORY = {\n",
    "    'TAGS': 'tags',\n",
    "    'SEVERITY': 'severity'\n",
    "}\n",
    "\n",
    "# this has to be consistent with the data generation script\n",
    "c12n_category_offset = 8"
   ],
   "metadata": {
    "collapsed": false,
    "ExecuteTime": {
     "end_time": "2024-06-13T18:58:43.020710Z",
     "start_time": "2024-06-13T18:58:43.011477Z"
    }
   },
   "outputs": [],
   "execution_count": 35
  },
  {
   "cell_type": "code",
   "source": [
    "# All the parameters that need to be configured for a training run should be in this cell.\n",
    "# Everywhere else we will use these variables.\n",
    "\n",
    "# classification category. currently, one of 'severity' or 'tags'.\n",
    "c12n_category = C12N_CATEGORY['TAGS']\n",
    "label_type = 'obstacle'\n",
    "gsv_not_pannellum = True\n",
    "\n",
    "image_dimension = 256\n",
    "\n",
    "base_model_size = 'base'\n",
    "\n",
    "params = {\n",
    "    'model': 'swinv2_base_window8_256',\n",
    "}\n",
    "    "
   ],
   "metadata": {
    "collapsed": false,
    "ExecuteTime": {
     "end_time": "2024-06-13T18:58:43.027727Z",
     "start_time": "2024-06-13T18:58:43.020710Z"
    }
   },
   "outputs": [],
   "execution_count": 36
  },
  {
   "cell_type": "code",
   "metadata": {
    "colab": {
     "base_uri": "https://localhost:8080/",
     "height": 382
    },
    "id": "ztcDoPyIVF28",
    "outputId": "df80bf6d-9d67-4486-a582-02ec5dff7143",
    "ExecuteTime": {
     "end_time": "2024-06-13T18:58:43.035219Z",
     "start_time": "2024-06-13T18:58:43.027727Z"
    }
   },
   "source": [
    "# These are settings for ensuring input images to DinoV2 are properly sized\n",
    "\n",
    "class ResizeAndPad:\n",
    "    def __init__(self, target_size, multiple):\n",
    "        self.target_size = target_size\n",
    "        self.multiple = multiple\n",
    "\n",
    "    def __call__(self, img):\n",
    "        # Resize the image\n",
    "        img = transforms.Resize(self.target_size)(img)\n",
    "\n",
    "        # Calculate padding\n",
    "        pad_width = (self.multiple - img.width % self.multiple) % self.multiple\n",
    "        pad_height = (self.multiple - img.height % self.multiple) % self.multiple\n",
    "\n",
    "        # Apply padding\n",
    "        img = transforms.Pad((pad_width // 2, pad_height // 2, pad_width - pad_width // 2, pad_height - pad_height // 2))(img)\n",
    "\n",
    "        return img\n",
    "\n",
    "# This is what DinoV2 sees\n",
    "target_size = (image_dimension, image_dimension)\n",
    "\n",
    "# Below are functions that every image will be passed through, including data augmentations\n",
    "data_transforms = {\n",
    "    \"train\": transforms.Compose(\n",
    "        [\n",
    "            transforms.ToPILImage(),\n",
    "            ResizeAndPad(target_size, 32),\n",
    "            # transforms.RandomRotation(360),\n",
    "            # transforms.RandomHorizontalFlip(),\n",
    "            # transforms.RandomVerticalFlip(),\n",
    "            transforms.ToTensor(),\n",
    "            transforms.Normalize([0.485, 0.456, 0.406], [0.229, 0.224, 0.225]),\n",
    "        ]\n",
    "    ),\n",
    "    \"inference\": transforms.Compose([ ResizeAndPad(target_size, 14),\n",
    "                                               transforms.ToTensor(),\n",
    "                                               transforms.Normalize([0.485, 0.456, 0.406], [0.229, 0.224, 0.225]),\n",
    "                                             ]\n",
    "                                            )\n",
    "}\n"
   ],
   "outputs": [],
   "execution_count": 37
  },
  {
   "cell_type": "code",
   "metadata": {
    "id": "pGzRW8J1VF29",
    "ExecuteTime": {
     "end_time": "2024-06-13T18:58:43.042441Z",
     "start_time": "2024-06-13T18:58:43.035219Z"
    }
   },
   "source": [
    "device = torch.device(\"cuda\") if torch.cuda.is_available() else torch.device(\"cpu\")\n",
    "\n",
    "if torch.cuda.is_available():\n",
    "    print(\"GPU available\")\n",
    "else:\n",
    "    print(\"GPU not available\")"
   ],
   "outputs": [
    {
     "name": "stdout",
     "output_type": "stream",
     "text": [
      "GPU available\n"
     ]
    }
   ],
   "execution_count": 38
  },
  {
   "cell_type": "code",
   "source": [
    "def get_target_classes(dir_path, offset):\n",
    "    file_path = os.path.join(dir_path, 'train.csv')\n",
    "    data = pd.read_csv(file_path)\n",
    "    header_row = data.columns.tolist()\n",
    "    return header_row[offset:]"
   ],
   "metadata": {
    "collapsed": false,
    "ExecuteTime": {
     "end_time": "2024-06-13T18:58:43.049698Z",
     "start_time": "2024-06-13T18:58:43.042441Z"
    }
   },
   "outputs": [],
   "execution_count": 39
  },
  {
   "cell_type": "code",
   "source": [
    "if gsv_not_pannellum:\n",
    "    csv_data_dir_path_train = '../datasets/crops-' + label_type + '-' + c12n_category + '/train'\n",
    "    model_name_to_save = 'cls-' + base_model_size[0] + '-' + label_type + '-' + c12n_category + '-best.pth'\n",
    "else:\n",
    "    csv_data_dir_path_train = '../datasets/crops-' + label_type + '-' + c12n_category + '-pannellum' + '/train'\n",
    "    model_name_to_save = 'cls-' + base_model_size[0] + '-' + label_type + '-' + c12n_category + '-pannellum-best.pth'\n",
    "\n",
    "if params['model'] == 'vit_base_patch16_clip_224':\n",
    "    model_name_to_save = 'vitclip-models/clip-' + model_name_to_save\n",
    "elif 'swin' in params['model']:\n",
    "    model_name_to_save = 'swin-models/' + model_name_to_save\n",
    "\n",
    "print('Reading data from: ' + csv_data_dir_path_train)\n",
    "print('Model name to save: ' + model_name_to_save)\n",
    "\n",
    "# we will pass this to the model, so we don't have to change it manually\n",
    "n_target_classes = len(get_target_classes(csv_data_dir_path_train, c12n_category_offset))"
   ],
   "metadata": {
    "collapsed": false,
    "ExecuteTime": {
     "end_time": "2024-06-13T18:58:43.062689Z",
     "start_time": "2024-06-13T18:58:43.049698Z"
    }
   },
   "outputs": [
    {
     "name": "stdout",
     "output_type": "stream",
     "text": [
      "Reading data from: ../datasets/crops-obstacle-tags/train\n",
      "Model name to save: swin-models/cls-b-obstacle-tags-best.pth\n"
     ]
    }
   ],
   "execution_count": 40
  },
  {
   "cell_type": "code",
   "metadata": {
    "id": "CSMLRlDUVF2-",
    "ExecuteTime": {
     "end_time": "2024-06-13T18:58:44.885037Z",
     "start_time": "2024-06-13T18:58:43.062689Z"
    }
   },
   "source": [
    "SWIN_model = timm.create_model(model_name = params['model'])\n",
    "\n",
    "class SWIN_Classifier(nn.Module):\n",
    "    def __init__(self, model_name=params['model'], n_target_classes=7):\n",
    "        super().__init__()\n",
    "        self.base_model_name = model_name\n",
    "        self.image_size = image_dimension\n",
    "        \n",
    "        self.model = timm.create_model(model_name=model_name, pretrained=True, in_chans=3)\n",
    "#         Replace the final head layers in model with our own Linear layer\n",
    "        num_features = self.model.num_features\n",
    "        self.model.head = nn.Linear(num_features, 256)\n",
    "        self.fully_connect = nn.Sequential(nn.Linear(256, 128),\n",
    "                                           nn.ReLU(),\n",
    "                                           nn.Linear(128, n_target_classes))\n",
    "    \n",
    "    def forward(self, image):\n",
    "        x = self.model(image)\n",
    "        # Using dropout functions to randomly shutdown some of the nodes in hidden layers to prevent overfitting.\n",
    "#         x = self.dropout(x)\n",
    "#         # Concatenate the metadata into the results.\n",
    "        x = self.fully_connect(x)\n",
    "        return x\n",
    "\n",
    "\n",
    "# Define a new classifier layer that contains a few linear layers with a ReLU to make predictions positive\n",
    "\n",
    "\n",
    "model = SWIN_Classifier(params['model'], n_target_classes)"
   ],
   "outputs": [],
   "execution_count": 41
  },
  {
   "cell_type": "code",
   "metadata": {
    "id": "vs84EaOQVF2_",
    "ExecuteTime": {
     "end_time": "2024-06-13T18:58:45.154870Z",
     "start_time": "2024-06-13T18:58:44.885037Z"
    }
   },
   "source": [
    "model = model.to(device)\n",
    "model = model.train()\n",
    "# change the binary cross-entropy loss below to a different loss if using more than 2 classes\n",
    "# https://pytorch.org/docs/stable/nn.html#loss-functions\n",
    "\n",
    "# @zhihan, question: are these loss functions correct?\n",
    "if c12n_category == C12N_CATEGORY['TAGS']:\n",
    "    criterion = nn.BCEWithLogitsLoss()\n",
    "elif c12n_category == C12N_CATEGORY['SEVERITY']:\n",
    "    criterion = nn.L1Loss()\n",
    "\n",
    "\n",
    "optimizer = optim.Adam(model.parameters(), lr=1e-6)\n",
    "\n",
    "num_epochs = 100\n",
    "\n",
    "# experiment.log_parameters(hyper_params)"
   ],
   "outputs": [],
   "execution_count": 42
  },
  {
   "cell_type": "code",
   "source": [
    "# custom data loader\n",
    "class PSLabelsDataset(Dataset):\n",
    "    \"\"\"Face Landmarks dataset.\"\"\"\n",
    "\n",
    "    def __init__(self, csv_file, root_dir, offset=8, transform=None):\n",
    "        \"\"\"\n",
    "        Args:\n",
    "            csv_file (string): Path to the csv file with annotations.\n",
    "            root_dir (string): Directory with all the images.\n",
    "            offset (int, optional): number of columns to skip to get to the severity or tags info e.g. normalized_x and normalized_y need to be skipped.\n",
    "            transform (callable, optional): Optional transform to be applied\n",
    "                on a sample.\n",
    "        \"\"\"\n",
    "        self.landmarks_frame = pd.read_csv(csv_file)\n",
    "        self.root_dir = root_dir\n",
    "        self.transform = transform\n",
    "        self.offset = offset\n",
    "\n",
    "    def __len__(self):\n",
    "        return len(self.landmarks_frame)\n",
    "\n",
    "    def __getitem__(self, idx):\n",
    "        if torch.is_tensor(idx):\n",
    "            idx = idx.tolist()\n",
    "\n",
    "        img_name = os.path.join(self.root_dir,\n",
    "                                self.landmarks_frame.iloc[idx, 0])\n",
    "        image = io.read_image(img_name, mode=io.ImageReadMode.RGB)\n",
    "        labels = self.landmarks_frame.iloc[idx, self.offset:]\n",
    "        labels = np.array(labels)\n",
    "        labels = labels.astype('float')\n",
    "        # sample = {'image': image, 'labels': labels}\n",
    "\n",
    "        if self.transform:\n",
    "            image = self.transform(image)\n",
    "\n",
    "        return image, labels"
   ],
   "metadata": {
    "collapsed": false,
    "ExecuteTime": {
     "end_time": "2024-06-13T18:58:45.159384Z",
     "start_time": "2024-06-13T18:58:45.154870Z"
    }
   },
   "outputs": [],
   "execution_count": 43
  },
  {
   "cell_type": "code",
   "source": [
    "dataset = PSLabelsDataset(csv_data_dir_path_train + '/' + 'train.csv', root_dir=csv_data_dir_path_train, offset=c12n_category_offset, transform=data_transforms['train'])\n",
    "\n",
    "print(\"Number of samples in the dataset: \", len(dataset))\n",
    "\n",
    "dataloaders = {\n",
    "    \"train\": torch.utils.data.DataLoader(dataset, batch_size=4, shuffle=True)\n",
    "}"
   ],
   "metadata": {
    "collapsed": false,
    "ExecuteTime": {
     "end_time": "2024-06-13T18:58:45.172605Z",
     "start_time": "2024-06-13T18:58:45.159384Z"
    }
   },
   "outputs": [
    {
     "name": "stdout",
     "output_type": "stream",
     "text": [
      "Number of samples in the dataset:  1954\n"
     ]
    }
   ],
   "execution_count": 44
  },
  {
   "cell_type": "code",
   "metadata": {
    "id": "14vdJZdKVF3A",
    "outputId": "e1fce9ee-a366-4fc3-cebb-0782807ba3f1",
    "scrolled": false,
    "ExecuteTime": {
     "end_time": "2024-06-13T19:02:36.035721Z",
     "start_time": "2024-06-13T18:59:25.214101Z"
    }
   },
   "source": [
    "epoch_losses = []\n",
    "epoch_accuracies = []\n",
    "\n",
    "best_accuracy = 0\n",
    "best_loss = 100\n",
    "\n",
    "print(\"Training...\")\n",
    "for epoch in range(num_epochs):\n",
    "    batch_losses = []\n",
    "    batch_accuracies = []\n",
    "\n",
    "    for data in dataloaders[\"train\"]:\n",
    "        # get the input batch and the ground truth labels\n",
    "        batch_of_images, gt_labels = data\n",
    "\n",
    "        # zero the parameter gradients\n",
    "        optimizer.zero_grad()\n",
    "\n",
    "        # model prediction\n",
    "        output = model(batch_of_images.to(device)).squeeze(dim=1)\n",
    "        \n",
    "        # if c12n_category == C12N_CATEGORY['TAGS']:\n",
    "        #     output = torch.sigmoid(output)\n",
    "        \n",
    "        if c12n_category == C12N_CATEGORY['SEVERITY']:\n",
    "            output = torch.softmax(output, 1)\n",
    "\n",
    "        # compute loss and do gradient descent\n",
    "        loss = criterion(output, gt_labels.float().to(device))\n",
    "\n",
    "        loss.backward()\n",
    "        optimizer.step()\n",
    "\n",
    "        batch_losses.append(loss.item())\n",
    "\n",
    "        # Calculate and record batch accuracy\n",
    "        \n",
    "        accuracy = 0\n",
    "        \n",
    "        if c12n_category == C12N_CATEGORY['TAGS']:\n",
    "            # accuracy = calculate_accuracy_multilabel(output, gt_labels.to(device))\n",
    "            \n",
    "            probabilities = torch.sigmoid(output)\n",
    "            predicted_classes = (probabilities > 0.5).float()\n",
    "        elif c12n_category == C12N_CATEGORY['SEVERITY']:\n",
    "            # accuracy = calculate_accuracy_multiclass(output, gt_labels.to(device))\n",
    "            probabilities = torch.softmax(output, 1)\n",
    "            # Convert probabilities to predicted classes\n",
    "            predicted_classes = torch.argmax(probabilities, 1)\n",
    "            \n",
    "        accuracy = accuracy_score(gt_labels.cpu().detach().numpy(), predicted_classes.cpu().detach().numpy())\n",
    "        \n",
    "        batch_accuracies.append(accuracy)\n",
    "\n",
    "    epoch_losses.append(np.mean(batch_losses))\n",
    "    epoch_accuracy = np.mean(batch_accuracies)\n",
    "    epoch_loss = epoch_losses[-1]\n",
    "    epoch_accuracies.append(epoch_accuracy)\n",
    "\n",
    "    print(\"  -> Epoch {}: Loss = {:.5f}, Accuracy = {:.3f}%\".format(epoch, epoch_losses[-1], 100*epoch_accuracy))\n",
    "    \n",
    "    # save the model if it has the best accuracy so far\n",
    "    # @zhihan, should we be checking for accuracy at all? or should we just consider the model with the lowest loss as the best? \n",
    "    if epoch_accuracy > best_accuracy:\n",
    "        best_accuracy = epoch_accuracy\n",
    "        best_loss = epoch_loss\n",
    "        torch.save(model.state_dict(), '{}/'.format(local_directory) + model_name_to_save)\n",
    "        print('Saving model based on accuracy. Loss: {:.5f} | Accuracy: {:.3f}%'.format(best_loss, 100*best_accuracy))\n",
    "    elif epoch_accuracy == best_accuracy:\n",
    "        if epoch_loss < best_loss:\n",
    "            best_loss = epoch_loss\n",
    "            best_accuracy = epoch_accuracy\n",
    "            torch.save(model.state_dict(), '{}/'.format(local_directory) + model_name_to_save)\n",
    "            print('Saving model based on loss. Loss: {:.5f} | Accuracy: {:.3f}%'.format(best_loss, 100*best_accuracy))\n",
    "            \n",
    "    # # track on comet ml        \n",
    "    # log_model(experiment, model_name_to_save, model)\n",
    "    "
   ],
   "outputs": [
    {
     "name": "stdout",
     "output_type": "stream",
     "text": [
      "Training...\n"
     ]
    },
    {
     "ename": "ValueError",
     "evalue": "Target size (torch.Size([4, 20])) must be the same as input size (torch.Size([4, 8, 8, 20]))",
     "output_type": "error",
     "traceback": [
      "\u001B[1;31m---------------------------------------------------------------------------\u001B[0m",
      "\u001B[1;31mValueError\u001B[0m                                Traceback (most recent call last)",
      "Cell \u001B[1;32mIn[46], line 29\u001B[0m\n\u001B[0;32m     26\u001B[0m     output \u001B[38;5;241m=\u001B[39m torch\u001B[38;5;241m.\u001B[39msoftmax(output, \u001B[38;5;241m1\u001B[39m)\n\u001B[0;32m     28\u001B[0m \u001B[38;5;66;03m# compute loss and do gradient descent\u001B[39;00m\n\u001B[1;32m---> 29\u001B[0m loss \u001B[38;5;241m=\u001B[39m criterion(output, gt_labels\u001B[38;5;241m.\u001B[39mfloat()\u001B[38;5;241m.\u001B[39mto(device))\n\u001B[0;32m     31\u001B[0m loss\u001B[38;5;241m.\u001B[39mbackward()\n\u001B[0;32m     32\u001B[0m optimizer\u001B[38;5;241m.\u001B[39mstep()\n",
      "File \u001B[1;32m~\\anaconda3\\envs\\dinov2\\Lib\\site-packages\\torch\\nn\\modules\\module.py:1511\u001B[0m, in \u001B[0;36mModule._wrapped_call_impl\u001B[1;34m(self, *args, **kwargs)\u001B[0m\n\u001B[0;32m   1509\u001B[0m     \u001B[38;5;28;01mreturn\u001B[39;00m \u001B[38;5;28mself\u001B[39m\u001B[38;5;241m.\u001B[39m_compiled_call_impl(\u001B[38;5;241m*\u001B[39margs, \u001B[38;5;241m*\u001B[39m\u001B[38;5;241m*\u001B[39mkwargs)  \u001B[38;5;66;03m# type: ignore[misc]\u001B[39;00m\n\u001B[0;32m   1510\u001B[0m \u001B[38;5;28;01melse\u001B[39;00m:\n\u001B[1;32m-> 1511\u001B[0m     \u001B[38;5;28;01mreturn\u001B[39;00m \u001B[38;5;28mself\u001B[39m\u001B[38;5;241m.\u001B[39m_call_impl(\u001B[38;5;241m*\u001B[39margs, \u001B[38;5;241m*\u001B[39m\u001B[38;5;241m*\u001B[39mkwargs)\n",
      "File \u001B[1;32m~\\anaconda3\\envs\\dinov2\\Lib\\site-packages\\torch\\nn\\modules\\module.py:1520\u001B[0m, in \u001B[0;36mModule._call_impl\u001B[1;34m(self, *args, **kwargs)\u001B[0m\n\u001B[0;32m   1515\u001B[0m \u001B[38;5;66;03m# If we don't have any hooks, we want to skip the rest of the logic in\u001B[39;00m\n\u001B[0;32m   1516\u001B[0m \u001B[38;5;66;03m# this function, and just call forward.\u001B[39;00m\n\u001B[0;32m   1517\u001B[0m \u001B[38;5;28;01mif\u001B[39;00m \u001B[38;5;129;01mnot\u001B[39;00m (\u001B[38;5;28mself\u001B[39m\u001B[38;5;241m.\u001B[39m_backward_hooks \u001B[38;5;129;01mor\u001B[39;00m \u001B[38;5;28mself\u001B[39m\u001B[38;5;241m.\u001B[39m_backward_pre_hooks \u001B[38;5;129;01mor\u001B[39;00m \u001B[38;5;28mself\u001B[39m\u001B[38;5;241m.\u001B[39m_forward_hooks \u001B[38;5;129;01mor\u001B[39;00m \u001B[38;5;28mself\u001B[39m\u001B[38;5;241m.\u001B[39m_forward_pre_hooks\n\u001B[0;32m   1518\u001B[0m         \u001B[38;5;129;01mor\u001B[39;00m _global_backward_pre_hooks \u001B[38;5;129;01mor\u001B[39;00m _global_backward_hooks\n\u001B[0;32m   1519\u001B[0m         \u001B[38;5;129;01mor\u001B[39;00m _global_forward_hooks \u001B[38;5;129;01mor\u001B[39;00m _global_forward_pre_hooks):\n\u001B[1;32m-> 1520\u001B[0m     \u001B[38;5;28;01mreturn\u001B[39;00m forward_call(\u001B[38;5;241m*\u001B[39margs, \u001B[38;5;241m*\u001B[39m\u001B[38;5;241m*\u001B[39mkwargs)\n\u001B[0;32m   1522\u001B[0m \u001B[38;5;28;01mtry\u001B[39;00m:\n\u001B[0;32m   1523\u001B[0m     result \u001B[38;5;241m=\u001B[39m \u001B[38;5;28;01mNone\u001B[39;00m\n",
      "File \u001B[1;32m~\\anaconda3\\envs\\dinov2\\Lib\\site-packages\\torch\\nn\\modules\\loss.py:725\u001B[0m, in \u001B[0;36mBCEWithLogitsLoss.forward\u001B[1;34m(self, input, target)\u001B[0m\n\u001B[0;32m    724\u001B[0m \u001B[38;5;28;01mdef\u001B[39;00m \u001B[38;5;21mforward\u001B[39m(\u001B[38;5;28mself\u001B[39m, \u001B[38;5;28minput\u001B[39m: Tensor, target: Tensor) \u001B[38;5;241m-\u001B[39m\u001B[38;5;241m>\u001B[39m Tensor:\n\u001B[1;32m--> 725\u001B[0m     \u001B[38;5;28;01mreturn\u001B[39;00m F\u001B[38;5;241m.\u001B[39mbinary_cross_entropy_with_logits(\u001B[38;5;28minput\u001B[39m, target,\n\u001B[0;32m    726\u001B[0m                                               \u001B[38;5;28mself\u001B[39m\u001B[38;5;241m.\u001B[39mweight,\n\u001B[0;32m    727\u001B[0m                                               pos_weight\u001B[38;5;241m=\u001B[39m\u001B[38;5;28mself\u001B[39m\u001B[38;5;241m.\u001B[39mpos_weight,\n\u001B[0;32m    728\u001B[0m                                               reduction\u001B[38;5;241m=\u001B[39m\u001B[38;5;28mself\u001B[39m\u001B[38;5;241m.\u001B[39mreduction)\n",
      "File \u001B[1;32m~\\anaconda3\\envs\\dinov2\\Lib\\site-packages\\torch\\nn\\functional.py:3197\u001B[0m, in \u001B[0;36mbinary_cross_entropy_with_logits\u001B[1;34m(input, target, weight, size_average, reduce, reduction, pos_weight)\u001B[0m\n\u001B[0;32m   3194\u001B[0m     reduction_enum \u001B[38;5;241m=\u001B[39m _Reduction\u001B[38;5;241m.\u001B[39mget_enum(reduction)\n\u001B[0;32m   3196\u001B[0m \u001B[38;5;28;01mif\u001B[39;00m \u001B[38;5;129;01mnot\u001B[39;00m (target\u001B[38;5;241m.\u001B[39msize() \u001B[38;5;241m==\u001B[39m \u001B[38;5;28minput\u001B[39m\u001B[38;5;241m.\u001B[39msize()):\n\u001B[1;32m-> 3197\u001B[0m     \u001B[38;5;28;01mraise\u001B[39;00m \u001B[38;5;167;01mValueError\u001B[39;00m(\u001B[38;5;124mf\u001B[39m\u001B[38;5;124m\"\u001B[39m\u001B[38;5;124mTarget size (\u001B[39m\u001B[38;5;132;01m{\u001B[39;00mtarget\u001B[38;5;241m.\u001B[39msize()\u001B[38;5;132;01m}\u001B[39;00m\u001B[38;5;124m) must be the same as input size (\u001B[39m\u001B[38;5;132;01m{\u001B[39;00m\u001B[38;5;28minput\u001B[39m\u001B[38;5;241m.\u001B[39msize()\u001B[38;5;132;01m}\u001B[39;00m\u001B[38;5;124m)\u001B[39m\u001B[38;5;124m\"\u001B[39m)\n\u001B[0;32m   3199\u001B[0m \u001B[38;5;28;01mreturn\u001B[39;00m torch\u001B[38;5;241m.\u001B[39mbinary_cross_entropy_with_logits(\u001B[38;5;28minput\u001B[39m, target, weight, pos_weight, reduction_enum)\n",
      "\u001B[1;31mValueError\u001B[0m: Target size (torch.Size([4, 20])) must be the same as input size (torch.Size([4, 8, 8, 20]))"
     ]
    }
   ],
   "execution_count": 46
  },
  {
   "cell_type": "code",
   "metadata": {
    "id": "JS7qHekbVF3B",
    "outputId": "cc9c8113-15df-4846-ff94-2726c81a82ec",
    "ExecuteTime": {
     "end_time": "2024-06-13T06:34:35.733444Z",
     "start_time": "2024-06-13T06:34:24.895244Z"
    }
   },
   "source": [
    "# Plotting accuracy\n",
    "plt.figure(figsize=(12, 5))\n",
    "\n",
    "plt.subplot(1, 2, 1)\n",
    "plt.plot(epoch_accuracies, label='Accuracy', color='blue')\n",
    "plt.title(\"Training Accuracy\")\n",
    "plt.xlabel(\"Epoch Number\")\n",
    "plt.ylabel(\"Accuracy\")\n",
    "\n",
    "# Plotting loss\n",
    "plt.subplot(1, 2, 2)\n",
    "plt.plot(epoch_losses, label='Loss', color='red')\n",
    "plt.title(\"Training Loss\")\n",
    "plt.xlabel(\"Epoch Number\")\n",
    "plt.ylabel(\"Loss\")\n",
    "\n",
    "plt.savefig(model_name_to_save.replace('.pth', '') + '-training_plot.png')\n",
    "\n",
    "plt.show()"
   ],
   "outputs": [
    {
     "data": {
      "text/plain": [
       "<Figure size 1200x500 with 2 Axes>"
      ],
      "image/png": "[encoded data removed]"
     },
     "metadata": {},
     "output_type": "display_data"
    }
   ],
   "execution_count": 33
  },
  {
   "metadata": {
    "ExecuteTime": {
     "end_time": "2024-06-13T06:34:15.151687Z",
     "start_time": "2024-06-13T06:34:15.145701Z"
    }
   },
   "cell_type": "code",
   "source": [
    "# Save all the cell outputs to a file\n",
    "model_name_to_save"
   ],
   "outputs": [
    {
     "data": {
      "text/plain": [
       "'vitclip-models/clip-cls-b-obstacle-tags-best.pth'"
      ]
     },
     "execution_count": 32,
     "metadata": {},
     "output_type": "execute_result"
    }
   ],
   "execution_count": 32
  }
 ],
 "metadata": {
  "accelerator": "GPU",
  "colab": {
   "gpuType": "T4",
   "provenance": []
  },
  "kernelspec": {
   "name": "python3",
   "language": "python",
   "display_name": "Python 3 (ipykernel)"
  },
  "language_info": {
   "codemirror_mode": {
    "name": "ipython",
    "version": 3
   },
   "file_extension": ".py",
   "mimetype": "text/x-python",
   "name": "python",
   "nbconvert_exporter": "python",
   "pygments_lexer": "ipython3",
   "version": "3.10.12"
  }
 },
 "nbformat": 4,
 "nbformat_minor": 0
}
