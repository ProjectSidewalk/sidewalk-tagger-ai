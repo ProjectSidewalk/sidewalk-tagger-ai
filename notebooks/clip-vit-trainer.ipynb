{
 "cells": [
  {
   "cell_type": "markdown",
   "source": [
    "This notebook trains a classification model to predict 'tags' or 'severity' for the given Project Sidewalk label type."
   ],
   "metadata": {
    "collapsed": false
   }
  },
  {
   "cell_type": "code",
   "metadata": {
    "id": "0XmqhrS1VF2g",
    "ExecuteTime": {
     "end_time": "2024-06-28T04:05:56.161492Z",
     "start_time": "2024-06-28T04:05:53.544511Z"
    }
   },
   "source": [
    "import os\n",
    "import time\n",
    "from copy import deepcopy\n",
    "from pathlib import Path\n",
    "import matplotlib.pyplot as plt\n",
    "import numpy as np\n",
    "import torch\n",
    "from torch import nn, optim\n",
    "import warnings\n",
    "warnings.filterwarnings('ignore', category=UserWarning)\n",
    "from torchvision import transforms, io\n",
    "import pandas as pd\n",
    "from torch.utils.data import Dataset\n",
    "import timm\n",
    "from sklearn.metrics import accuracy_score\n"
   ],
   "outputs": [],
   "execution_count": 1
  },
  {
   "cell_type": "code",
   "source": [
    "# some initial variables\n",
    "\n",
    "local_directory = os.getcwd()\n",
    "\n",
    "# Enum for the classification categories we support.\n",
    "C12N_CATEGORY = {\n",
    "    'TAGS': 'tags',\n",
    "    'SEVERITY': 'severity'\n",
    "}\n",
    "\n",
    "# this has to be consistent with the data generation script\n",
    "c12n_category_offset = 8"
   ],
   "metadata": {
    "collapsed": false,
    "ExecuteTime": {
     "end_time": "2024-06-28T04:05:56.165713Z",
     "start_time": "2024-06-28T04:05:56.161492Z"
    }
   },
   "outputs": [],
   "execution_count": 2
  },
  {
   "cell_type": "code",
   "source": [
    "# All the parameters that need to be configured for a training run should be in this cell.\n",
    "# Everywhere else we will use these variables.\n",
    "\n",
    "# classification category. currently, one of 'severity' or 'tags'.\n",
    "label_type = 'surfaceproblem'\n",
    "dataset_group = 'validated'\n",
    "\n",
    "c12n_category = C12N_CATEGORY['TAGS']\n",
    "gsv_not_pannellum = True\n",
    "\n",
    "image_dimension = 224\n",
    "\n",
    "base_model_size = 'base'\n",
    "\n",
    "params = {\n",
    "    'model': 'vit_base_patch16_clip_224',\n",
    "}\n",
    "    "
   ],
   "metadata": {
    "collapsed": false,
    "ExecuteTime": {
     "end_time": "2024-06-28T04:05:56.174509Z",
     "start_time": "2024-06-28T04:05:56.165713Z"
    }
   },
   "outputs": [],
   "execution_count": 3
  },
  {
   "cell_type": "code",
   "metadata": {
    "colab": {
     "base_uri": "https://localhost:8080/",
     "height": 382
    },
    "id": "ztcDoPyIVF28",
    "outputId": "df80bf6d-9d67-4486-a582-02ec5dff7143",
    "ExecuteTime": {
     "end_time": "2024-06-28T04:05:56.181825Z",
     "start_time": "2024-06-28T04:05:56.174509Z"
    }
   },
   "source": [
    "# These are settings for ensuring input images to DinoV2 are properly sized\n",
    "\n",
    "class ResizeAndPad:\n",
    "    def __init__(self, target_size, multiple):\n",
    "        self.target_size = target_size\n",
    "        self.multiple = multiple\n",
    "\n",
    "    def __call__(self, img):\n",
    "        # Resize the image\n",
    "        img = transforms.Resize(self.target_size)(img)\n",
    "\n",
    "        # Calculate padding\n",
    "        pad_width = (self.multiple - img.width % self.multiple) % self.multiple\n",
    "        pad_height = (self.multiple - img.height % self.multiple) % self.multiple\n",
    "\n",
    "        # Apply padding\n",
    "        img = transforms.Pad((pad_width // 2, pad_height // 2, pad_width - pad_width // 2, pad_height - pad_height // 2))(img)\n",
    "\n",
    "        return img\n",
    "\n",
    "# This is what DinoV2 sees\n",
    "target_size = (image_dimension, image_dimension)\n",
    "\n",
    "# Below are functions that every image will be passed through, including data augmentations\n",
    "data_transforms = {\n",
    "    \"train\": transforms.Compose(\n",
    "        [\n",
    "            transforms.ToPILImage(),\n",
    "            ResizeAndPad(target_size, 32),\n",
    "            # transforms.RandomRotation(360),\n",
    "            # transforms.RandomHorizontalFlip(),\n",
    "            # transforms.RandomVerticalFlip(),\n",
    "            transforms.ToTensor(),\n",
    "            transforms.Normalize([0.485, 0.456, 0.406], [0.229, 0.224, 0.225]),\n",
    "        ]\n",
    "    ),\n",
    "    \"inference\": transforms.Compose([ ResizeAndPad(target_size, 14),\n",
    "                                               transforms.ToTensor(),\n",
    "                                               transforms.Normalize([0.485, 0.456, 0.406], [0.229, 0.224, 0.225]),\n",
    "                                             ]\n",
    "                                            )\n",
    "}\n"
   ],
   "outputs": [],
   "execution_count": 4
  },
  {
   "cell_type": "code",
   "metadata": {
    "id": "pGzRW8J1VF29",
    "ExecuteTime": {
     "end_time": "2024-06-28T04:05:56.207588Z",
     "start_time": "2024-06-28T04:05:56.181825Z"
    }
   },
   "source": [
    "device = torch.device(\"cuda\") if torch.cuda.is_available() else torch.device(\"cpu\")\n",
    "\n",
    "if torch.cuda.is_available():\n",
    "    print(\"GPU available\")\n",
    "else:\n",
    "    print(\"GPU not available\")"
   ],
   "outputs": [
    {
     "name": "stdout",
     "output_type": "stream",
     "text": [
      "GPU available\n"
     ]
    }
   ],
   "execution_count": 5
  },
  {
   "cell_type": "code",
   "source": [
    "def get_target_classes(dir_path, offset):\n",
    "    file_path = os.path.join(dir_path, 'train.csv')\n",
    "    data = pd.read_csv(file_path)\n",
    "    header_row = data.columns.tolist()\n",
    "    return header_row[offset:]"
   ],
   "metadata": {
    "collapsed": false,
    "ExecuteTime": {
     "end_time": "2024-06-28T04:05:56.214274Z",
     "start_time": "2024-06-28T04:05:56.207588Z"
    }
   },
   "outputs": [],
   "execution_count": 6
  },
  {
   "cell_type": "code",
   "source": [
    "if gsv_not_pannellum:\n",
    "    csv_data_dir_path_train = '../datasets-' + dataset_group + '/crops-' + label_type + '-' + c12n_category + '/train'\n",
    "    model_name_to_save = 'cls-' + base_model_size[0] + '-' + label_type + '-' + c12n_category + '-best.pth'\n",
    "else:\n",
    "    csv_data_dir_path_train = '../datasets-' + dataset_group + '/crops-' + label_type + '-' + c12n_category + '-pannellum' + '/train'\n",
    "    model_name_to_save = 'cls-' + base_model_size[0] + '-' + label_type + '-' + c12n_category + '-pannellum-best.pth'\n",
    "\n",
    "if params['model'] == 'vit_base_patch16_clip_224':\n",
    "    model_name_to_save = 'vitclip-models/' + dataset_group + '-clip-' + model_name_to_save\n",
    "elif 'swin' in params['model']:\n",
    "    model_name_to_save = 'swin-models/' + dataset_group + '-swin-' + model_name_to_save\n",
    "\n",
    "print('Reading data from: ' + csv_data_dir_path_train)\n",
    "print('Model name to save: ' + model_name_to_save)\n",
    "\n",
    "# we will pass this to the model, so we don't have to change it manually\n",
    "n_target_classes = len(get_target_classes(csv_data_dir_path_train, c12n_category_offset))"
   ],
   "metadata": {
    "collapsed": false,
    "ExecuteTime": {
     "end_time": "2024-06-28T04:05:56.233334Z",
     "start_time": "2024-06-28T04:05:56.214274Z"
    }
   },
   "outputs": [
    {
     "name": "stdout",
     "output_type": "stream",
     "text": [
      "Reading data from: ../datasets-validated/crops-surfaceproblem-tags/train\n",
      "Model name to save: vitclip-models/validated-clip-cls-b-surfaceproblem-tags-best.pth\n"
     ]
    }
   ],
   "execution_count": 7
  },
  {
   "cell_type": "code",
   "metadata": {
    "id": "CSMLRlDUVF2-",
    "ExecuteTime": {
     "end_time": "2024-06-28T04:05:57.299791Z",
     "start_time": "2024-06-28T04:05:56.233334Z"
    }
   },
   "source": [
    "class SWIN_Classifier(nn.Module):\n",
    "    def __init__(self, model_name=params['model'], n_target_classes=7):\n",
    "        super().__init__()\n",
    "        self.base_model_name = model_name\n",
    "        self.image_size = image_dimension\n",
    "        \n",
    "        self.model = timm.create_model(model_name=model_name, pretrained=True, in_chans=3)\n",
    "#         Replace the final head layers in model with our own Linear layer\n",
    "        num_features = self.model.num_features\n",
    "        self.model.head = nn.Linear(num_features, 256)\n",
    "        self.fully_connect = nn.Sequential(nn.Linear(256, 128),\n",
    "                                           nn.ReLU(),\n",
    "                                           nn.Linear(128, n_target_classes))\n",
    "    \n",
    "    def forward(self, image):\n",
    "        x = self.model(image)\n",
    "        # Using dropout functions to randomly shutdown some of the nodes in hidden layers to prevent overfitting.\n",
    "#         x = self.dropout(x)\n",
    "#         # Concatenate the metadata into the results.\n",
    "        x = self.fully_connect(x)\n",
    "        return x\n",
    "\n",
    "\n",
    "# Define a new classifier layer that contains a few linear layers with a ReLU to make predictions positive\n",
    "\n",
    "\n",
    "model = SWIN_Classifier(params['model'], n_target_classes)"
   ],
   "outputs": [],
   "execution_count": 8
  },
  {
   "cell_type": "code",
   "metadata": {
    "id": "vs84EaOQVF2_",
    "ExecuteTime": {
     "end_time": "2024-06-28T04:05:57.469709Z",
     "start_time": "2024-06-28T04:05:57.299791Z"
    }
   },
   "source": [
    "model = model.to(device)\n",
    "model = model.train()\n",
    "# change the binary cross-entropy loss below to a different loss if using more than 2 classes\n",
    "# https://pytorch.org/docs/stable/nn.html#loss-functions\n",
    "\n",
    "# @zhihan, question: are these loss functions correct?\n",
    "if c12n_category == C12N_CATEGORY['TAGS']:\n",
    "    criterion = nn.BCEWithLogitsLoss()\n",
    "elif c12n_category == C12N_CATEGORY['SEVERITY']:\n",
    "    criterion = nn.L1Loss()\n",
    "\n",
    "\n",
    "optimizer = optim.Adam(model.parameters(), lr=1e-6)\n",
    "\n",
    "num_epochs = 100\n",
    "\n",
    "# experiment.log_parameters(hyper_params)"
   ],
   "outputs": [],
   "execution_count": 9
  },
  {
   "cell_type": "code",
   "source": [
    "# custom data loader\n",
    "class PSLabelsDataset(Dataset):\n",
    "    \"\"\"Face Landmarks dataset.\"\"\"\n",
    "\n",
    "    def __init__(self, csv_file, root_dir, offset=8, transform=None):\n",
    "        \"\"\"\n",
    "        Args:\n",
    "            csv_file (string): Path to the csv file with annotations.\n",
    "            root_dir (string): Directory with all the images.\n",
    "            offset (int, optional): number of columns to skip to get to the severity or tags info e.g. normalized_x and normalized_y need to be skipped.\n",
    "            transform (callable, optional): Optional transform to be applied\n",
    "                on a sample.\n",
    "        \"\"\"\n",
    "        self.landmarks_frame = pd.read_csv(csv_file)\n",
    "        self.root_dir = root_dir\n",
    "        self.transform = transform\n",
    "        self.offset = offset\n",
    "\n",
    "    def __len__(self):\n",
    "        return len(self.landmarks_frame)\n",
    "\n",
    "    def __getitem__(self, idx):\n",
    "        if torch.is_tensor(idx):\n",
    "            idx = idx.tolist()\n",
    "\n",
    "        img_name = os.path.join(self.root_dir,\n",
    "                                self.landmarks_frame.iloc[idx, 0])\n",
    "        image = io.read_image(img_name, mode=io.ImageReadMode.RGB)\n",
    "        labels = self.landmarks_frame.iloc[idx, self.offset:]\n",
    "        labels = np.array(labels)\n",
    "        labels = labels.astype('float')\n",
    "        # sample = {'image': image, 'labels': labels}\n",
    "\n",
    "        if self.transform:\n",
    "            image = self.transform(image)\n",
    "\n",
    "        return image, labels"
   ],
   "metadata": {
    "collapsed": false,
    "ExecuteTime": {
     "end_time": "2024-06-28T04:05:57.474836Z",
     "start_time": "2024-06-28T04:05:57.469709Z"
    }
   },
   "outputs": [],
   "execution_count": 10
  },
  {
   "cell_type": "code",
   "source": [
    "dataset = PSLabelsDataset(csv_data_dir_path_train + '/' + 'train.csv', root_dir=csv_data_dir_path_train, offset=c12n_category_offset, transform=data_transforms['train'])\n",
    "\n",
    "print(\"Number of samples in the dataset: \", len(dataset))\n",
    "\n",
    "dataloaders = {\n",
    "    \"train\": torch.utils.data.DataLoader(dataset, batch_size=4, shuffle=True)\n",
    "}"
   ],
   "metadata": {
    "collapsed": false,
    "ExecuteTime": {
     "end_time": "2024-06-28T04:05:57.492892Z",
     "start_time": "2024-06-28T04:05:57.474836Z"
    }
   },
   "outputs": [
    {
     "name": "stdout",
     "output_type": "stream",
     "text": [
      "Number of samples in the dataset:  7282\n"
     ]
    }
   ],
   "execution_count": 11
  },
  {
   "cell_type": "code",
   "metadata": {
    "id": "14vdJZdKVF3A",
    "outputId": "e1fce9ee-a366-4fc3-cebb-0782807ba3f1",
    "scrolled": false,
    "ExecuteTime": {
     "end_time": "2024-06-28T11:39:13.583214Z",
     "start_time": "2024-06-28T04:06:00.397851Z"
    }
   },
   "source": [
    "epoch_losses = []\n",
    "epoch_accuracies = []\n",
    "\n",
    "best_accuracy = 0\n",
    "best_loss = 100\n",
    "\n",
    "start_time = time.time()\n",
    "\n",
    "print(\"Training...\")\n",
    "for epoch in range(num_epochs):\n",
    "    batch_losses = []\n",
    "    batch_accuracies = []\n",
    "    \n",
    "    epoch_start_time = time.time()\n",
    "\n",
    "    for data in dataloaders[\"train\"]:\n",
    "        # get the input batch and the ground truth labels\n",
    "        batch_of_images, gt_labels = data\n",
    "\n",
    "        # zero the parameter gradients\n",
    "        optimizer.zero_grad()\n",
    "\n",
    "        # model prediction\n",
    "        output = model(batch_of_images.to(device)).squeeze(dim=1)\n",
    "        \n",
    "        # if c12n_category == C12N_CATEGORY['TAGS']:\n",
    "        #     output = torch.sigmoid(output)\n",
    "        \n",
    "        if c12n_category == C12N_CATEGORY['SEVERITY']:\n",
    "            output = torch.softmax(output, 1)\n",
    "\n",
    "        # compute loss and do gradient descent\n",
    "        loss = criterion(output, gt_labels.float().to(device))\n",
    "\n",
    "        loss.backward()\n",
    "        optimizer.step()\n",
    "\n",
    "        batch_losses.append(loss.item())\n",
    "\n",
    "        # Calculate and record batch accuracy\n",
    "        \n",
    "        accuracy = 0\n",
    "        \n",
    "        if c12n_category == C12N_CATEGORY['TAGS']:\n",
    "            # accuracy = calculate_accuracy_multilabel(output, gt_labels.to(device))\n",
    "            \n",
    "            probabilities = torch.sigmoid(output)\n",
    "            predicted_classes = (probabilities > 0.5).float()\n",
    "        elif c12n_category == C12N_CATEGORY['SEVERITY']:\n",
    "            # accuracy = calculate_accuracy_multiclass(output, gt_labels.to(device))\n",
    "            probabilities = torch.softmax(output, 1)\n",
    "            # Convert probabilities to predicted classes\n",
    "            predicted_classes = torch.argmax(probabilities, 1)\n",
    "            \n",
    "        accuracy = accuracy_score(gt_labels.cpu().detach().numpy(), predicted_classes.cpu().detach().numpy())\n",
    "        \n",
    "        batch_accuracies.append(accuracy)\n",
    "\n",
    "\n",
    "    epoch_end_time = time.time()\n",
    "    print(\"Epoch {} took {:.0f}m {:.0f}s\".format(epoch, (epoch_end_time - epoch_start_time) // 60, (epoch_end_time - epoch_start_time) % 60))\n",
    "\n",
    "    epoch_losses.append(np.mean(batch_losses))\n",
    "    epoch_accuracy = np.mean(batch_accuracies)\n",
    "    epoch_loss = epoch_losses[-1]\n",
    "    epoch_accuracies.append(epoch_accuracy)\n",
    "\n",
    "    print(\"  -> Epoch {}: Loss = {:.5f}, Accuracy = {:.3f}%\".format(epoch, epoch_losses[-1], 100*epoch_accuracy))\n",
    "    \n",
    "    \n",
    "    \n",
    "    # save the model if it has the best accuracy so far\n",
    "    # @zhihan, should we be checking for accuracy at all? or should we just consider the model with the lowest loss as the best? \n",
    "    if epoch_accuracy > best_accuracy:\n",
    "        best_accuracy = epoch_accuracy\n",
    "        best_loss = epoch_loss\n",
    "        torch.save(model.state_dict(), '{}/'.format(local_directory) + model_name_to_save)\n",
    "        print('Saving model based on accuracy. Loss: {:.5f} | Accuracy: {:.3f}%'.format(best_loss, 100*best_accuracy))\n",
    "    elif epoch_accuracy == best_accuracy:\n",
    "        if epoch_loss < best_loss:\n",
    "            best_loss = epoch_loss\n",
    "            best_accuracy = epoch_accuracy\n",
    "            torch.save(model.state_dict(), '{}/'.format(local_directory) + model_name_to_save)\n",
    "            print('Saving model based on loss. Loss: {:.5f} | Accuracy: {:.3f}%'.format(best_loss, 100*best_accuracy))\n",
    "            \n",
    "end_time = time.time()\n",
    "\n",
    "elapsed_time = end_time - start_time\n",
    "print(\"Training complete in {:.0f}m {:.0f}s\".format(elapsed_time // 60, elapsed_time % 60))\n",
    "    "
   ],
   "outputs": [
    {
     "name": "stdout",
     "output_type": "stream",
     "text": [
      "Training...\n",
      "Epoch 0 took 4m 33s\n",
      "  -> Epoch 0: Loss = 0.33410, Accuracy = 13.646%\n",
      "Saving model based on accuracy. Loss: 0.33410 | Accuracy: 13.646%\n",
      "Epoch 1 took 4m 32s\n",
      "  -> Epoch 1: Loss = 0.23683, Accuracy = 27.828%\n",
      "Saving model based on accuracy. Loss: 0.23683 | Accuracy: 27.828%\n",
      "Epoch 2 took 4m 32s\n",
      "  -> Epoch 2: Loss = 0.20245, Accuracy = 35.585%\n",
      "Saving model based on accuracy. Loss: 0.20245 | Accuracy: 35.585%\n",
      "Epoch 3 took 4m 32s\n",
      "  -> Epoch 3: Loss = 0.17638, Accuracy = 43.767%\n",
      "Saving model based on accuracy. Loss: 0.17638 | Accuracy: 43.767%\n",
      "Epoch 4 took 4m 32s\n",
      "  -> Epoch 4: Loss = 0.15426, Accuracy = 50.329%\n",
      "Saving model based on accuracy. Loss: 0.15426 | Accuracy: 50.329%\n",
      "Epoch 5 took 4m 32s\n",
      "  -> Epoch 5: Loss = 0.13417, Accuracy = 56.150%\n",
      "Saving model based on accuracy. Loss: 0.13417 | Accuracy: 56.150%\n",
      "Epoch 6 took 4m 32s\n",
      "  -> Epoch 6: Loss = 0.11551, Accuracy = 62.507%\n",
      "Saving model based on accuracy. Loss: 0.11551 | Accuracy: 62.507%\n",
      "Epoch 7 took 4m 32s\n",
      "  -> Epoch 7: Loss = 0.09785, Accuracy = 69.522%\n",
      "Saving model based on accuracy. Loss: 0.09785 | Accuracy: 69.522%\n",
      "Epoch 8 took 4m 32s\n",
      "  -> Epoch 8: Loss = 0.08197, Accuracy = 75.481%\n",
      "Saving model based on accuracy. Loss: 0.08197 | Accuracy: 75.481%\n",
      "Epoch 9 took 4m 32s\n",
      "  -> Epoch 9: Loss = 0.06744, Accuracy = 81.109%\n",
      "Saving model based on accuracy. Loss: 0.06744 | Accuracy: 81.109%\n",
      "Epoch 10 took 4m 32s\n",
      "  -> Epoch 10: Loss = 0.05493, Accuracy = 85.324%\n",
      "Saving model based on accuracy. Loss: 0.05493 | Accuracy: 85.324%\n",
      "Epoch 11 took 4m 32s\n",
      "  -> Epoch 11: Loss = 0.04465, Accuracy = 88.166%\n",
      "Saving model based on accuracy. Loss: 0.04465 | Accuracy: 88.166%\n",
      "Epoch 12 took 4m 32s\n",
      "  -> Epoch 12: Loss = 0.03717, Accuracy = 90.527%\n",
      "Saving model based on accuracy. Loss: 0.03717 | Accuracy: 90.527%\n",
      "Epoch 13 took 4m 32s\n",
      "  -> Epoch 13: Loss = 0.03091, Accuracy = 92.614%\n",
      "Saving model based on accuracy. Loss: 0.03091 | Accuracy: 92.614%\n",
      "Epoch 14 took 4m 33s\n",
      "  -> Epoch 14: Loss = 0.02542, Accuracy = 94.152%\n",
      "Saving model based on accuracy. Loss: 0.02542 | Accuracy: 94.152%\n",
      "Epoch 15 took 4m 32s\n",
      "  -> Epoch 15: Loss = 0.02173, Accuracy = 95.277%\n",
      "Saving model based on accuracy. Loss: 0.02173 | Accuracy: 95.277%\n",
      "Epoch 16 took 4m 32s\n",
      "  -> Epoch 16: Loss = 0.01832, Accuracy = 96.280%\n",
      "Saving model based on accuracy. Loss: 0.01832 | Accuracy: 96.280%\n",
      "Epoch 17 took 4m 33s\n",
      "  -> Epoch 17: Loss = 0.01539, Accuracy = 96.815%\n",
      "Saving model based on accuracy. Loss: 0.01539 | Accuracy: 96.815%\n",
      "Epoch 18 took 4m 32s\n",
      "  -> Epoch 18: Loss = 0.01316, Accuracy = 97.488%\n",
      "Saving model based on accuracy. Loss: 0.01316 | Accuracy: 97.488%\n",
      "Epoch 19 took 4m 32s\n",
      "  -> Epoch 19: Loss = 0.01111, Accuracy = 97.900%\n",
      "Saving model based on accuracy. Loss: 0.01111 | Accuracy: 97.900%\n",
      "Epoch 20 took 4m 32s\n",
      "  -> Epoch 20: Loss = 0.01030, Accuracy = 97.735%\n",
      "Epoch 21 took 4m 32s\n",
      "  -> Epoch 21: Loss = 0.00950, Accuracy = 97.927%\n",
      "Saving model based on accuracy. Loss: 0.00950 | Accuracy: 97.927%\n",
      "Epoch 22 took 4m 32s\n",
      "  -> Epoch 22: Loss = 0.00863, Accuracy = 98.105%\n",
      "Saving model based on accuracy. Loss: 0.00863 | Accuracy: 98.105%\n",
      "Epoch 23 took 4m 32s\n",
      "  -> Epoch 23: Loss = 0.00716, Accuracy = 98.558%\n",
      "Saving model based on accuracy. Loss: 0.00716 | Accuracy: 98.558%\n",
      "Epoch 24 took 4m 32s\n",
      "  -> Epoch 24: Loss = 0.00605, Accuracy = 98.888%\n",
      "Saving model based on accuracy. Loss: 0.00605 | Accuracy: 98.888%\n",
      "Epoch 25 took 4m 32s\n",
      "  -> Epoch 25: Loss = 0.00507, Accuracy = 99.217%\n",
      "Saving model based on accuracy. Loss: 0.00507 | Accuracy: 99.217%\n",
      "Epoch 26 took 4m 32s\n",
      "  -> Epoch 26: Loss = 0.00550, Accuracy = 99.080%\n",
      "Epoch 27 took 4m 32s\n",
      "  -> Epoch 27: Loss = 0.00615, Accuracy = 98.476%\n",
      "Epoch 28 took 4m 32s\n",
      "  -> Epoch 28: Loss = 0.00507, Accuracy = 98.998%\n",
      "Epoch 29 took 4m 32s\n",
      "  -> Epoch 29: Loss = 0.00492, Accuracy = 99.025%\n",
      "Epoch 30 took 4m 32s\n",
      "  -> Epoch 30: Loss = 0.00489, Accuracy = 99.066%\n",
      "Epoch 31 took 4m 32s\n",
      "  -> Epoch 31: Loss = 0.00396, Accuracy = 99.410%\n",
      "Saving model based on accuracy. Loss: 0.00396 | Accuracy: 99.410%\n",
      "Epoch 32 took 4m 32s\n",
      "  -> Epoch 32: Loss = 0.00403, Accuracy = 99.245%\n",
      "Epoch 33 took 4m 32s\n",
      "  -> Epoch 33: Loss = 0.00375, Accuracy = 99.341%\n",
      "Epoch 34 took 4m 32s\n",
      "  -> Epoch 34: Loss = 0.00293, Accuracy = 99.588%\n",
      "Saving model based on accuracy. Loss: 0.00293 | Accuracy: 99.588%\n",
      "Epoch 35 took 4m 32s\n",
      "  -> Epoch 35: Loss = 0.00380, Accuracy = 99.259%\n",
      "Epoch 36 took 4m 32s\n",
      "  -> Epoch 36: Loss = 0.00338, Accuracy = 99.286%\n",
      "Epoch 37 took 4m 33s\n",
      "  -> Epoch 37: Loss = 0.00379, Accuracy = 99.066%\n",
      "Epoch 38 took 4m 33s\n",
      "  -> Epoch 38: Loss = 0.00272, Accuracy = 99.533%\n",
      "Epoch 39 took 4m 32s\n",
      "  -> Epoch 39: Loss = 0.00256, Accuracy = 99.629%\n",
      "Saving model based on accuracy. Loss: 0.00256 | Accuracy: 99.629%\n",
      "Epoch 40 took 4m 32s\n",
      "  -> Epoch 40: Loss = 0.00367, Accuracy = 99.053%\n",
      "Epoch 41 took 4m 32s\n",
      "  -> Epoch 41: Loss = 0.00259, Accuracy = 99.574%\n",
      "Epoch 42 took 4m 32s\n",
      "  -> Epoch 42: Loss = 0.00270, Accuracy = 99.423%\n",
      "Epoch 43 took 4m 32s\n",
      "  -> Epoch 43: Loss = 0.00286, Accuracy = 99.327%\n",
      "Epoch 44 took 4m 32s\n",
      "  -> Epoch 44: Loss = 0.00183, Accuracy = 99.657%\n",
      "Saving model based on accuracy. Loss: 0.00183 | Accuracy: 99.657%\n",
      "Epoch 45 took 4m 32s\n",
      "  -> Epoch 45: Loss = 0.00270, Accuracy = 99.368%\n",
      "Epoch 46 took 4m 33s\n",
      "  -> Epoch 46: Loss = 0.00269, Accuracy = 99.492%\n",
      "Epoch 47 took 4m 32s\n",
      "  -> Epoch 47: Loss = 0.00188, Accuracy = 99.739%\n",
      "Saving model based on accuracy. Loss: 0.00188 | Accuracy: 99.739%\n",
      "Epoch 48 took 4m 32s\n",
      "  -> Epoch 48: Loss = 0.00271, Accuracy = 99.341%\n",
      "Epoch 49 took 4m 32s\n",
      "  -> Epoch 49: Loss = 0.00273, Accuracy = 99.355%\n",
      "Epoch 50 took 4m 32s\n",
      "  -> Epoch 50: Loss = 0.00280, Accuracy = 99.272%\n",
      "Epoch 51 took 4m 32s\n",
      "  -> Epoch 51: Loss = 0.00285, Accuracy = 99.300%\n",
      "Epoch 52 took 4m 32s\n",
      "  -> Epoch 52: Loss = 0.00172, Accuracy = 99.698%\n",
      "Epoch 53 took 4m 31s\n",
      "  -> Epoch 53: Loss = 0.00102, Accuracy = 99.904%\n",
      "Saving model based on accuracy. Loss: 0.00102 | Accuracy: 99.904%\n",
      "Epoch 54 took 4m 32s\n",
      "  -> Epoch 54: Loss = 0.00325, Accuracy = 99.053%\n",
      "Epoch 55 took 4m 32s\n",
      "  -> Epoch 55: Loss = 0.00229, Accuracy = 99.437%\n",
      "Epoch 56 took 4m 32s\n",
      "  -> Epoch 56: Loss = 0.00142, Accuracy = 99.739%\n",
      "Epoch 57 took 4m 32s\n",
      "  -> Epoch 57: Loss = 0.00215, Accuracy = 99.492%\n",
      "Epoch 58 took 4m 32s\n",
      "  -> Epoch 58: Loss = 0.00160, Accuracy = 99.629%\n",
      "Epoch 59 took 4m 32s\n",
      "  -> Epoch 59: Loss = 0.00235, Accuracy = 99.382%\n",
      "Epoch 60 took 4m 32s\n",
      "  -> Epoch 60: Loss = 0.00209, Accuracy = 99.574%\n",
      "Epoch 61 took 4m 32s\n",
      "  -> Epoch 61: Loss = 0.00205, Accuracy = 99.437%\n",
      "Epoch 62 took 4m 32s\n",
      "  -> Epoch 62: Loss = 0.00169, Accuracy = 99.725%\n",
      "Epoch 63 took 4m 32s\n",
      "  -> Epoch 63: Loss = 0.00255, Accuracy = 99.465%\n",
      "Epoch 64 took 4m 32s\n",
      "  -> Epoch 64: Loss = 0.00225, Accuracy = 99.423%\n",
      "Epoch 65 took 4m 32s\n",
      "  -> Epoch 65: Loss = 0.00105, Accuracy = 99.849%\n",
      "Epoch 66 took 4m 32s\n",
      "  -> Epoch 66: Loss = 0.00184, Accuracy = 99.519%\n",
      "Epoch 67 took 4m 32s\n",
      "  -> Epoch 67: Loss = 0.00200, Accuracy = 99.423%\n",
      "Epoch 68 took 4m 32s\n",
      "  -> Epoch 68: Loss = 0.00231, Accuracy = 99.492%\n",
      "Epoch 69 took 4m 32s\n",
      "  -> Epoch 69: Loss = 0.00133, Accuracy = 99.753%\n",
      "Epoch 70 took 4m 33s\n",
      "  -> Epoch 70: Loss = 0.00184, Accuracy = 99.423%\n",
      "Epoch 71 took 4m 31s\n",
      "  -> Epoch 71: Loss = 0.00121, Accuracy = 99.657%\n",
      "Epoch 72 took 4m 32s\n",
      "  -> Epoch 72: Loss = 0.00209, Accuracy = 99.451%\n",
      "Epoch 73 took 4m 32s\n",
      "  -> Epoch 73: Loss = 0.00134, Accuracy = 99.616%\n",
      "Epoch 74 took 4m 32s\n",
      "  -> Epoch 74: Loss = 0.00200, Accuracy = 99.437%\n",
      "Epoch 75 took 4m 32s\n",
      "  -> Epoch 75: Loss = 0.00227, Accuracy = 99.368%\n",
      "Epoch 76 took 4m 32s\n",
      "  -> Epoch 76: Loss = 0.00105, Accuracy = 99.808%\n",
      "Epoch 77 took 4m 31s\n",
      "  -> Epoch 77: Loss = 0.00141, Accuracy = 99.588%\n",
      "Epoch 78 took 4m 31s\n",
      "  -> Epoch 78: Loss = 0.00193, Accuracy = 99.355%\n",
      "Epoch 79 took 4m 31s\n",
      "  -> Epoch 79: Loss = 0.00150, Accuracy = 99.561%\n",
      "Epoch 80 took 4m 32s\n",
      "  -> Epoch 80: Loss = 0.00083, Accuracy = 99.849%\n",
      "Epoch 81 took 4m 32s\n",
      "  -> Epoch 81: Loss = 0.00041, Accuracy = 99.973%\n",
      "Saving model based on accuracy. Loss: 0.00041 | Accuracy: 99.973%\n",
      "Epoch 82 took 4m 32s\n",
      "  -> Epoch 82: Loss = 0.00254, Accuracy = 99.012%\n",
      "Epoch 83 took 4m 31s\n",
      "  -> Epoch 83: Loss = 0.00193, Accuracy = 99.382%\n",
      "Epoch 84 took 4m 31s\n",
      "  -> Epoch 84: Loss = 0.00128, Accuracy = 99.602%\n",
      "Epoch 85 took 4m 31s\n",
      "  -> Epoch 85: Loss = 0.00112, Accuracy = 99.725%\n",
      "Epoch 86 took 4m 32s\n",
      "  -> Epoch 86: Loss = 0.00128, Accuracy = 99.712%\n",
      "Epoch 87 took 4m 32s\n",
      "  -> Epoch 87: Loss = 0.00190, Accuracy = 99.437%\n",
      "Epoch 88 took 4m 32s\n",
      "  -> Epoch 88: Loss = 0.00187, Accuracy = 99.451%\n",
      "Epoch 89 took 4m 31s\n",
      "  -> Epoch 89: Loss = 0.00123, Accuracy = 99.698%\n",
      "Epoch 90 took 4m 32s\n",
      "  -> Epoch 90: Loss = 0.00142, Accuracy = 99.602%\n",
      "Epoch 91 took 4m 31s\n",
      "  -> Epoch 91: Loss = 0.00114, Accuracy = 99.712%\n",
      "Epoch 92 took 4m 31s\n",
      "  -> Epoch 92: Loss = 0.00110, Accuracy = 99.822%\n",
      "Epoch 93 took 4m 32s\n",
      "  -> Epoch 93: Loss = 0.00181, Accuracy = 99.382%\n",
      "Epoch 94 took 4m 32s\n",
      "  -> Epoch 94: Loss = 0.00142, Accuracy = 99.629%\n",
      "Epoch 95 took 4m 32s\n",
      "  -> Epoch 95: Loss = 0.00127, Accuracy = 99.698%\n",
      "Epoch 96 took 4m 32s\n",
      "  -> Epoch 96: Loss = 0.00103, Accuracy = 99.725%\n",
      "Epoch 97 took 4m 31s\n",
      "  -> Epoch 97: Loss = 0.00190, Accuracy = 99.437%\n",
      "Epoch 98 took 4m 31s\n",
      "  -> Epoch 98: Loss = 0.00085, Accuracy = 99.808%\n",
      "Epoch 99 took 4m 32s\n",
      "  -> Epoch 99: Loss = 0.00048, Accuracy = 99.931%\n",
      "Training complete in 453m 13s\n"
     ]
    }
   ],
   "execution_count": 12
  },
  {
   "cell_type": "code",
   "metadata": {
    "id": "JS7qHekbVF3B",
    "outputId": "cc9c8113-15df-4846-ff94-2726c81a82ec",
    "ExecuteTime": {
     "end_time": "2024-06-29T03:38:27.145392Z",
     "start_time": "2024-06-29T03:38:26.837099Z"
    }
   },
   "source": [
    "# Plotting accuracy\n",
    "plt.figure(figsize=(12, 5))\n",
    "\n",
    "plt.subplot(1, 2, 1)\n",
    "plt.plot(epoch_accuracies, label='Accuracy', color='blue')\n",
    "plt.title(\"Training Accuracy\")\n",
    "plt.xlabel(\"Epoch Number\")\n",
    "plt.ylabel(\"Accuracy\")\n",
    "\n",
    "# Plotting loss\n",
    "plt.subplot(1, 2, 2)\n",
    "plt.plot(epoch_losses, label='Loss', color='red')\n",
    "plt.title(\"Training Loss\")\n",
    "plt.xlabel(\"Epoch Number\")\n",
    "plt.ylabel(\"Loss\")\n",
    "\n",
    "plt.savefig(model_name_to_save.replace('.pth', '') + '-training_plot.png')\n",
    "\n",
    "plt.show()"
   ],
   "outputs": [
    {
     "data": {
      "text/plain": [
       "<Figure size 1200x500 with 2 Axes>"
      ],
      "image/png": "[encoded data removed]"
     },
     "metadata": {},
     "output_type": "display_data"
    }
   ],
   "execution_count": 14
  },
  {
   "metadata": {
    "ExecuteTime": {
     "end_time": "2024-06-13T06:34:15.151687Z",
     "start_time": "2024-06-13T06:34:15.145701Z"
    }
   },
   "cell_type": "code",
   "source": [
    "# Save all the cell outputs to a file\n",
    "model_name_to_save"
   ],
   "outputs": [
    {
     "data": {
      "text/plain": [
       "'vitclip-models/clip-cls-b-obstacle-tags-best.pth'"
      ]
     },
     "execution_count": 32,
     "metadata": {},
     "output_type": "execute_result"
    }
   ],
   "execution_count": 32
  }
 ],
 "metadata": {
  "accelerator": "GPU",
  "colab": {
   "gpuType": "T4",
   "provenance": []
  },
  "kernelspec": {
   "name": "python3",
   "language": "python",
   "display_name": "Python 3 (ipykernel)"
  },
  "language_info": {
   "codemirror_mode": {
    "name": "ipython",
    "version": 3
   },
   "file_extension": ".py",
   "mimetype": "text/x-python",
   "name": "python",
   "nbconvert_exporter": "python",
   "pygments_lexer": "ipython3",
   "version": "3.10.12"
  }
 },
 "nbformat": 4,
 "nbformat_minor": 0
}
